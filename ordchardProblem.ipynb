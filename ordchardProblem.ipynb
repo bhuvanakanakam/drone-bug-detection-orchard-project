{
  "nbformat": 4,
  "nbformat_minor": 0,
  "metadata": {
    "colab": {
      "provenance": []
    },
    "kernelspec": {
      "name": "python3",
      "display_name": "Python 3"
    },
    "language_info": {
      "name": "python"
    }
  },
  "cells": [
    {
      "cell_type": "markdown",
      "source": [
        "#### Bhuvana Kanakam"
      ],
      "metadata": {
        "id": "1NPmrXgaBgLa"
      }
    },
    {
      "cell_type": "markdown",
      "source": [
        "### Algorithm\n",
        "\n",
        "1. Iterate over each aisle in the orchard.\n",
        "2. For each aisle, sort the rewards of trees in non-decreasing order.\n",
        "3. Iterate over each possible value of k (from 1 to the number of trees in the aisle).\n",
        "4. For each value of k, find the largest integer j less than the (budget - 6k)/2 plus 1.\n",
        "5. Calculate the sum of the top k rewards among trees with indices not exceeding j.\n",
        "6. Record the top k trees in the set.\n",
        "7. Calculate the maximum reward for the aisle based on the recorded sets.\n",
        "8. Repeat steps 1-7 for all aisles.\n",
        "9. Return the maximum total reward across all aisles."
      ],
      "metadata": {
        "id": "4NkxuNU4taBQ"
      }
    },
    {
      "cell_type": "markdown",
      "source": [
        "### Approach"
      ],
      "metadata": {
        "id": "-GhvAynb-iI1"
      }
    },
    {
      "cell_type": "markdown",
      "source": [
        "#### Iterate Through The Aisle"
      ],
      "metadata": {
        "id": "XW40XsPA4TnQ"
      }
    },
    {
      "cell_type": "code",
      "source": [
        "orchard = [\n",
        "    [12, 13, 16, 12, 11, 8, 19],\n",
        "]\n",
        "\n",
        "# Iterate through each aisle\n",
        "for aisle_index, aisle in enumerate(orchard):\n",
        "    print(f\"Aisle {aisle_index + 1}:\")\n",
        "\n",
        "    # Iterate through each tree in the aisle\n",
        "    for tree_index, reward in enumerate(aisle):\n",
        "        print(f\"Tree {tree_index + 1}: Reward = {reward}\")\n"
      ],
      "metadata": {
        "colab": {
          "base_uri": "https://localhost:8080/"
        },
        "id": "3CsMVSMYxlmV",
        "outputId": "c4e7be38-7710-4859-8615-8ebd9b0d6268"
      },
      "execution_count": null,
      "outputs": [
        {
          "output_type": "stream",
          "name": "stdout",
          "text": [
            "Aisle 1:\n",
            "Tree 1: Reward = 12\n",
            "Tree 2: Reward = 13\n",
            "Tree 3: Reward = 16\n",
            "Tree 4: Reward = 12\n",
            "Tree 5: Reward = 11\n",
            "Tree 6: Reward = 8\n",
            "Tree 7: Reward = 19\n"
          ]
        }
      ]
    },
    {
      "cell_type": "markdown",
      "source": [
        "#### Sort the rewards"
      ],
      "metadata": {
        "id": "z9UzTGfD4Yb6"
      }
    },
    {
      "cell_type": "code",
      "source": [
        "orchard = [\n",
        "    [12, 13, 16, 12, 11, 8, 19],\n",
        "]\n",
        "\n",
        "for aisle_index, aisle in enumerate(orchard):\n",
        "    sorted_rewards = sorted(aisle)\n",
        "    print(f\"Aisle {aisle_index + 1}: Sorted Rewards = {sorted_rewards}\")\n"
      ],
      "metadata": {
        "colab": {
          "base_uri": "https://localhost:8080/"
        },
        "id": "lD_IKSKf4hMN",
        "outputId": "f01f89a4-e448-46bf-fecd-e08642097d50"
      },
      "execution_count": null,
      "outputs": [
        {
          "output_type": "stream",
          "name": "stdout",
          "text": [
            "Aisle 1: Sorted Rewards = [8, 11, 12, 12, 13, 16, 19]\n"
          ]
        }
      ]
    },
    {
      "cell_type": "markdown",
      "source": [
        "#### Calculate largest j integer\n",
        "need to iterate over each tree in the aisle and calculate j for each k value, <br><br> Budget, will assume 27"
      ],
      "metadata": {
        "id": "FO6vpDE25Epb"
      }
    },
    {
      "cell_type": "code",
      "source": [
        "import math\n",
        "\n",
        "budget = 27\n",
        "n = len(orchard[0])\n",
        "\n",
        "for aisle_index, aisle in enumerate(orchard):\n",
        "    sorted_rewards = sorted(aisle, reverse=True)\n",
        "\n",
        "    # Iterate through k = 1, 2, ..., n\n",
        "    for k in range(1, n + 1):\n",
        "        j = math.floor((budget - 6 * k) / 2) + 1\n",
        "        print(f\"Aisle {aisle_index + 1}, k = {k}: Largest j = {j}\")\n"
      ],
      "metadata": {
        "colab": {
          "base_uri": "https://localhost:8080/"
        },
        "id": "p3sEhn2E4hi9",
        "outputId": "467f3503-0068-43b8-972c-483776a57400"
      },
      "execution_count": null,
      "outputs": [
        {
          "output_type": "stream",
          "name": "stdout",
          "text": [
            "Aisle 1, k = 1: Largest j = 11\n",
            "Aisle 1, k = 2: Largest j = 8\n",
            "Aisle 1, k = 3: Largest j = 5\n",
            "Aisle 1, k = 4: Largest j = 2\n",
            "Aisle 1, k = 5: Largest j = -1\n",
            "Aisle 1, k = 6: Largest j = -4\n",
            "Aisle 1, k = 7: Largest j = -7\n"
          ]
        }
      ]
    },
    {
      "cell_type": "markdown",
      "source": [
        "####Top k rewards\n",
        "\n",
        "\n",
        "\n",
        "```\n",
        "print(f\"Aisle {aisle_index + 1}, Tree {k}: Top {k} rewards are {top_k_rewards[:k]}\")\n",
        "```\n",
        "\n"
      ],
      "metadata": {
        "id": "jNfSyh-d9R3V"
      }
    },
    {
      "cell_type": "markdown",
      "source": [
        "- here for the fourth tree, we get j = 2. we can't get 4 top rewards when j=2 so, not going to compute. can only get 2 max rewards."
      ],
      "metadata": {
        "id": "Xang3wqiwCPo"
      }
    },
    {
      "cell_type": "code",
      "source": [
        "import math\n",
        "\n",
        "# Iterate through each aisle\n",
        "for aisle_index, aisle in enumerate(orchard):\n",
        "    # Sort the rewards of trees\n",
        "    sorted_rewards = sorted(aisle, reverse=True)\n",
        "\n",
        "    # Iterate through k = 1, 2, ..., n\n",
        "    for k in range(1, n + 1):\n",
        "        j = math.floor((budget - 6 * k) / 2) + 1\n",
        "        if j >= 0:\n",
        "            if k > j:\n",
        "                top_k_rewards = sorted_rewards[:j]\n",
        "            else:\n",
        "                top_k_rewards = sorted_rewards[:k]\n",
        "\n",
        "            # Print the top k rewards for the current tree\n",
        "            print(f\"Aisle {aisle_index + 1}, Tree {k}: Top {min(k, j)} rewards are {top_k_rewards[:min(k, j)]}\")\n"
      ],
      "metadata": {
        "colab": {
          "base_uri": "https://localhost:8080/"
        },
        "id": "LmyBzABe-3z9",
        "outputId": "95721cfa-be25-4cb7-92b9-430c3f33d193"
      },
      "execution_count": null,
      "outputs": [
        {
          "output_type": "stream",
          "name": "stdout",
          "text": [
            "Aisle 1, Tree 1: Top 1 rewards are [19]\n",
            "Aisle 1, Tree 2: Top 2 rewards are [19, 16]\n",
            "Aisle 1, Tree 3: Top 3 rewards are [19, 16, 13]\n",
            "Aisle 1, Tree 4: Top 2 rewards are [19, 16]\n"
          ]
        }
      ]
    },
    {
      "cell_type": "markdown",
      "source": [
        "- here, tried to get max rewards with the sorted rewards, which is pointless"
      ],
      "metadata": {
        "id": "YwqcDnAiwP1c"
      }
    },
    {
      "cell_type": "code",
      "source": [
        "import math\n",
        "for aisle_index, aisle in enumerate(orchard):\n",
        "    sorted_rewards = sorted(aisle, reverse=True)\n",
        "    for k in range(1, n + 1):\n",
        "        j = math.floor((budget - 6 * k) / 2) + 1\n",
        "        if j >= 0: # j has to be non-negative value.\n",
        "            if k <= j: # as long as tree index is not exceeding j value\n",
        "                top_k_rewards = sorted_rewards[:k]\n",
        "                # Print the top k rewards for the current tree\n",
        "                print(f\"Tree {k}: Top {k} rewards : {top_k_rewards}\")\n"
      ],
      "metadata": {
        "colab": {
          "base_uri": "https://localhost:8080/"
        },
        "id": "kpVElu1NIJXA",
        "outputId": "5f738b77-d878-46c4-b293-961e4011fe2d"
      },
      "execution_count": null,
      "outputs": [
        {
          "output_type": "stream",
          "name": "stdout",
          "text": [
            "Tree 1: Top 1 rewards : [19]\n",
            "Tree 2: Top 2 rewards : [19, 16]\n",
            "Tree 3: Top 3 rewards : [19, 16, 13]\n"
          ]
        }
      ]
    },
    {
      "cell_type": "markdown",
      "source": [
        "- not gonna use the sorted rewards, instead going to use the orchard directly"
      ],
      "metadata": {
        "id": "knBLqhzuLUhm"
      }
    },
    {
      "cell_type": "code",
      "source": [
        "import math\n",
        "\n",
        "orchard = [\n",
        "    [12, 13, 16, 12, 11, 8, 19],\n",
        "]\n",
        "\n",
        "budget = 27\n",
        "n = len(orchard[0])\n",
        "\n",
        "for aisle_index, aisle in enumerate(orchard):\n",
        "    for k in range(1, n + 1):\n",
        "        j = min(math.floor((budget - 6 * k) / 2) + 1, n)\n",
        "        if k <= j:\n",
        "            top_k_rewards = sorted(aisle[:j], reverse=True)[:k]\n",
        "            print(f\"Aisle {aisle_index + 1}, Tree {k}: \\nTop {k} rewards of the first {j} trees are {top_k_rewards}\\n\")\n"
      ],
      "metadata": {
        "colab": {
          "base_uri": "https://localhost:8080/"
        },
        "id": "rKeYoPl_AHjQ",
        "outputId": "a31777a7-f12c-4266-a3e7-929326dc8b33"
      },
      "execution_count": null,
      "outputs": [
        {
          "output_type": "stream",
          "name": "stdout",
          "text": [
            "Aisle 1, Tree 1: \n",
            "Top 1 rewards of the first 7 trees are [19]\n",
            "\n",
            "Aisle 1, Tree 2: \n",
            "Top 2 rewards of the first 7 trees are [19, 16]\n",
            "\n",
            "Aisle 1, Tree 3: \n",
            "Top 3 rewards of the first 5 trees are [16, 13, 12]\n",
            "\n"
          ]
        }
      ]
    },
    {
      "cell_type": "markdown",
      "source": [
        "#### Get the Positions of the TopK Rewards"
      ],
      "metadata": {
        "id": "9Lr23rcPLy-e"
      }
    },
    {
      "cell_type": "markdown",
      "source": [
        "- here, i have gotten the positions of the tree top rewards for each tree we compute, but stored in [ ]"
      ],
      "metadata": {
        "id": "nv7Ror9_whby"
      }
    },
    {
      "cell_type": "code",
      "source": [
        "import math\n",
        "\n",
        "orchard = [\n",
        "    [12, 13, 16, 12, 11, 8, 19],\n",
        "]\n",
        "\n",
        "budget = 27\n",
        "n = len(orchard[0])\n",
        "\n",
        "for aisle_index, aisle in enumerate(orchard):\n",
        "    for k in range(1, n + 1):\n",
        "        j = min(math.floor((budget - 6 * k) / 2) + 1, n)\n",
        "        if k <= j:\n",
        "            top_k_rewards = sorted(set(aisle[:j]), reverse=True)[:k]\n",
        "            top_k_positions = [i + 1 for i, x in enumerate(aisle[:j]) if x in top_k_rewards]\n",
        "            print(f\"Aisle {aisle_index + 1}, Tree {k}: \\nTop {k} rewards in the first {j} trees are {top_k_rewards} \\nPositions of the Trees with the Top Rewards: {top_k_positions[:k]}\\n\")\n"
      ],
      "metadata": {
        "colab": {
          "base_uri": "https://localhost:8080/"
        },
        "id": "9e37NIz2L1z0",
        "outputId": "b932a0be-64bb-4f8c-b53e-495d320cab04"
      },
      "execution_count": null,
      "outputs": [
        {
          "output_type": "stream",
          "name": "stdout",
          "text": [
            "Aisle 1, Tree 1: \n",
            "Top 1 rewards in the first 7 trees are [19] \n",
            "Positions of the Trees with the Top Rewards: [7]\n",
            "\n",
            "Aisle 1, Tree 2: \n",
            "Top 2 rewards in the first 7 trees are [19, 16] \n",
            "Positions of the Trees with the Top Rewards: [3, 7]\n",
            "\n",
            "Aisle 1, Tree 3: \n",
            "Top 3 rewards in the first 5 trees are [16, 13, 12] \n",
            "Positions of the Trees with the Top Rewards: [1, 2, 3]\n",
            "\n"
          ]
        }
      ]
    },
    {
      "cell_type": "markdown",
      "source": [
        "#### Set of the TopK trees positions"
      ],
      "metadata": {
        "id": "XRZtU_SdNDq1"
      }
    },
    {
      "cell_type": "code",
      "source": [
        "import math\n",
        "\n",
        "orchard = [\n",
        "    [12, 13, 16, 12, 11, 8, 19],\n",
        "]\n",
        "\n",
        "budget = 27\n",
        "n = len(orchard[0])\n",
        "\n",
        "for aisle_index, aisle in enumerate(orchard):\n",
        "    for k in range(1, n + 1):\n",
        "        j = min(math.floor((budget - 6 * k) / 2) + 1, n)\n",
        "        if k <= j:\n",
        "            top_k_rewards = sorted(set(aisle[:j]), reverse=True)[:k]\n",
        "            top_k_positions = set([i + 1 for i, x in enumerate(aisle[:j]) if x in top_k_rewards])\n",
        "\n",
        "            print(f\"set({k}) = {top_k_positions}\")\n"
      ],
      "metadata": {
        "colab": {
          "base_uri": "https://localhost:8080/"
        },
        "id": "5o1LAlmdMq3u",
        "outputId": "e83783a4-1832-4471-cba1-946d6636fc92"
      },
      "execution_count": null,
      "outputs": [
        {
          "output_type": "stream",
          "name": "stdout",
          "text": [
            "set(1) = {7}\n",
            "set(2) = {3, 7}\n",
            "set(3) = {1, 2, 3, 4}\n"
          ]
        }
      ]
    },
    {
      "cell_type": "code",
      "source": [
        "import math\n",
        "\n",
        "orchard = [\n",
        "    [12, 13, 16, 12, 11, 8, 19],\n",
        "]\n",
        "\n",
        "budget = 27\n",
        "n = len(orchard[0])\n",
        "\n",
        "for aisle_index, aisle in enumerate(orchard):\n",
        "\n",
        "    for k in range(1, n + 1):\n",
        "        j = min(math.floor((budget - 6 * k) / 2) + 1, n)\n",
        "        if k <= j:\n",
        "            top_k_rewards = sorted(set(aisle[:j]), reverse=True)[:k]\n",
        "            top_k_positions = [i + 1 for i, x in enumerate(aisle[:j]) if x in top_k_rewards]\n",
        "\n",
        "            #print(f\"Aisle {aisle_index + 1}, Tree {k}: \\nTop {k} rewards is {top_k_rewards} \\nset({k}) is {top_k_positions[:k]}\\n\")\n",
        "            print(f\"Aisle {aisle_index + 1}, Tree {k}: \\nTop {k} rewards is {top_k_rewards} \\nset({k}) is {top_k_positions}\\n\")"
      ],
      "metadata": {
        "colab": {
          "base_uri": "https://localhost:8080/"
        },
        "id": "Bm-sFMoZNCfb",
        "outputId": "29d7f64e-5b05-4104-d74e-a80b39431178"
      },
      "execution_count": null,
      "outputs": [
        {
          "output_type": "stream",
          "name": "stdout",
          "text": [
            "Aisle 1, Tree 1: \n",
            "Top 1 rewards is [19] \n",
            "set(1) is [7]\n",
            "\n",
            "Aisle 1, Tree 2: \n",
            "Top 2 rewards is [19, 16] \n",
            "set(2) is [3, 7]\n",
            "\n",
            "Aisle 1, Tree 3: \n",
            "Top 3 rewards is [16, 13, 12] \n",
            "set(3) is [1, 2, 3, 4]\n",
            "\n"
          ]
        }
      ]
    },
    {
      "cell_type": "markdown",
      "source": [
        "**Fixed the unique print, and made the set of the positions**"
      ],
      "metadata": {
        "id": "zBQiacMrzRrn"
      }
    },
    {
      "cell_type": "code",
      "source": [
        "import math\n",
        "\n",
        "orchard = [\n",
        "    [12, 13, 16, 12, 11, 8, 19],\n",
        "]\n",
        "\n",
        "budget = 27\n",
        "n = len(orchard[0])\n",
        "\n",
        "for aisle_index, aisle in enumerate(orchard):\n",
        "\n",
        "    for k in range(1, n + 1):\n",
        "        j = min(math.floor((budget - 6 * k) / 2) + 1, n)\n",
        "        if k <= j:\n",
        "            top_k_rewards = sorted(set(aisle[:j]), reverse=True)[:k]\n",
        "            top_k_positions = set()\n",
        "            count = 0\n",
        "            for i, x in enumerate(aisle[:j]):\n",
        "                if x in top_k_rewards and count < k:\n",
        "                    top_k_positions.add(i + 1)\n",
        "                    count += 1\n",
        "\n",
        "            print(f\"Aisle {aisle_index + 1}, Tree {k}: \\nTop {k} rewards is {top_k_rewards} \\nset({k}) is {top_k_positions}\\n\")"
      ],
      "metadata": {
        "colab": {
          "base_uri": "https://localhost:8080/"
        },
        "id": "8dHFVpOOzHQa",
        "outputId": "31c622a4-9775-474e-dd03-0b1d76a0baf6"
      },
      "execution_count": null,
      "outputs": [
        {
          "output_type": "stream",
          "name": "stdout",
          "text": [
            "Aisle 1, Tree 1: \n",
            "Top 1 rewards is [19] \n",
            "set(1) is {7}\n",
            "\n",
            "Aisle 1, Tree 2: \n",
            "Top 2 rewards is [19, 16] \n",
            "set(2) is {3, 7}\n",
            "\n",
            "Aisle 1, Tree 3: \n",
            "Top 3 rewards is [16, 13, 12] \n",
            "set(3) is {1, 2, 3}\n",
            "\n"
          ]
        }
      ]
    },
    {
      "cell_type": "markdown",
      "source": [
        "#### Reward_Sum(k)"
      ],
      "metadata": {
        "id": "sRMRPl03AyJW"
      }
    },
    {
      "cell_type": "code",
      "source": [
        "import math\n",
        "\n",
        "orchard = [\n",
        "    [12, 13, 16, 12, 11, 8, 19],\n",
        "]\n",
        "\n",
        "budget = 27\n",
        "n = len(orchard[0])\n",
        "\n",
        "for aisle_index, aisle in enumerate(orchard):\n",
        "    for k in range(1, n + 1):\n",
        "        j = min(math.floor((budget - 6 * k) / 2) + 1, n)\n",
        "        if k <= j:\n",
        "            top_k_rewards = sorted(set(aisle[:j]), reverse=True)[:k]\n",
        "            top_k_positions = set()\n",
        "            count = 0\n",
        "            for i, x in enumerate(aisle[:j]):\n",
        "                if x in top_k_rewards and count < k:\n",
        "                    top_k_positions.add(i + 1)\n",
        "                    count += 1\n",
        "\n",
        "            reward_sum = sum(top_k_rewards)\n",
        "\n",
        "            print(f\"Aisle {aisle_index + 1}, Tree {k}: \\nTop {k} rewards = {top_k_rewards} \\nSet({k}) = {top_k_positions} \\nReward_Sum({k}) = {reward_sum}\\n\")\n"
      ],
      "metadata": {
        "colab": {
          "base_uri": "https://localhost:8080/"
        },
        "id": "YMs6hyJzvm1p",
        "outputId": "3f5cdc6a-5685-4100-affb-3fa871ce8371"
      },
      "execution_count": null,
      "outputs": [
        {
          "output_type": "stream",
          "name": "stdout",
          "text": [
            "Aisle 1, Tree 1: \n",
            "Top 1 rewards = [19] \n",
            "Set(1) = {7} \n",
            "Reward_Sum(1) = 19\n",
            "\n",
            "Aisle 1, Tree 2: \n",
            "Top 2 rewards = [19, 16] \n",
            "Set(2) = {3, 7} \n",
            "Reward_Sum(2) = 35\n",
            "\n",
            "Aisle 1, Tree 3: \n",
            "Top 3 rewards = [16, 13, 12] \n",
            "Set(3) = {1, 2, 3} \n",
            "Reward_Sum(3) = 41\n",
            "\n"
          ]
        }
      ]
    },
    {
      "cell_type": "markdown",
      "source": [
        "#### Maximum Sum of Rewards"
      ],
      "metadata": {
        "id": "KXYOqjGKz2js"
      }
    },
    {
      "cell_type": "code",
      "source": [
        "import math\n",
        "\n",
        "orchard = [\n",
        "    [12, 13, 16, 12, 11, 8, 19],\n",
        "]\n",
        "\n",
        "budget = 27\n",
        "n = len(orchard[0])\n",
        "max_reward = float('-inf')  # Initialize maximum reward\n",
        "\n",
        "for aisle_index, aisle in enumerate(orchard):\n",
        "    max_reward_aisle = float('-inf')  # Initialize maximum reward for the current aisle\n",
        "\n",
        "    for k in range(1, n + 1):\n",
        "        j = min(math.floor((budget - 6 * k) / 2) + 1, n)\n",
        "        if k <= j:\n",
        "            top_k_rewards = sorted(set(aisle[:j]), reverse=True)[:k]\n",
        "            top_k_positions = set()\n",
        "            count = 0\n",
        "            for i, x in enumerate(aisle[:j]):\n",
        "                if x in top_k_rewards and count < k:\n",
        "                    top_k_positions.add(i + 1)\n",
        "                    count += 1\n",
        "\n",
        "            reward_sum = sum(top_k_rewards)\n",
        "\n",
        "            print(f\"Aisle {aisle_index + 1}, Tree {k}: \\nTop {k} rewards = {top_k_rewards} \\nSet({k}) = {top_k_positions} \\nReward_Sum({k}) = {reward_sum}\\n\")\n",
        "\n",
        "            max_reward_aisle = max(max_reward_aisle, reward_sum)\n",
        "\n",
        "    max_reward = max(max_reward, max_reward_aisle)\n",
        "\n",
        "print(f\"Maximum reward: {max_reward}\")\n"
      ],
      "metadata": {
        "colab": {
          "base_uri": "https://localhost:8080/"
        },
        "id": "zQLD50Muz5B2",
        "outputId": "571bb1e8-7166-4e2a-e81d-bdc469cb533b"
      },
      "execution_count": null,
      "outputs": [
        {
          "output_type": "stream",
          "name": "stdout",
          "text": [
            "Aisle 1, Tree 1: \n",
            "Top 1 rewards = [19] \n",
            "Set(1) = {7} \n",
            "Reward_Sum(1) = 19\n",
            "\n",
            "Aisle 1, Tree 2: \n",
            "Top 2 rewards = [19, 16] \n",
            "Set(2) = {3, 7} \n",
            "Reward_Sum(2) = 35\n",
            "\n",
            "Aisle 1, Tree 3: \n",
            "Top 3 rewards = [16, 13, 12] \n",
            "Set(3) = {1, 2, 3} \n",
            "Reward_Sum(3) = 41\n",
            "\n",
            "Maximum reward: 41\n"
          ]
        }
      ]
    },
    {
      "cell_type": "markdown",
      "source": [
        "#### Maximum Rewards with Optimal Tree Set"
      ],
      "metadata": {
        "id": "uN1iIYi_2eVQ"
      }
    },
    {
      "cell_type": "code",
      "source": [
        "import math\n",
        "\n",
        "orchard = [\n",
        "    [12, 13, 16, 12, 11, 8, 19],\n",
        "]\n",
        "\n",
        "budget = 27\n",
        "n = len(orchard[0])\n",
        "max_reward = float('-inf')\n",
        "optimal_tree_set = set()\n",
        "\n",
        "for aisle_index, aisle in enumerate(orchard):\n",
        "\n",
        "    max_reward_aisle = float('-inf')  # Initialize maximum reward for the current aisle\n",
        "    optimal_tree_set_aisle = set()  # Initialize optimal tree set for the current aisle\n",
        "\n",
        "    for k in range(1, n + 1):\n",
        "        j = min(math.floor((budget - 6 * k) / 2) + 1, n)\n",
        "        if k <= j:\n",
        "            top_k_rewards = sorted(set(aisle[:j]), reverse=True)[:k]\n",
        "            top_k_positions = set()\n",
        "            count = 0\n",
        "            for i, x in enumerate(aisle[:j]):\n",
        "                if x in top_k_rewards and count < k:\n",
        "                    top_k_positions.add(i + 1)\n",
        "                    count += 1\n",
        "\n",
        "            reward_sum = sum(top_k_rewards)\n",
        "\n",
        "            print(f\"Aisle {aisle_index + 1}, Tree {k}: \\nTop {k} rewards = {top_k_rewards} \\nSet({k}) = {top_k_positions} \\nReward_Sum({k}) = {reward_sum}\\n\")\n",
        "\n",
        "            if reward_sum > max_reward_aisle:\n",
        "                max_reward_aisle = reward_sum\n",
        "                optimal_tree_set_aisle = top_k_positions\n",
        "\n",
        "    if max_reward_aisle > max_reward:\n",
        "        max_reward = max_reward_aisle\n",
        "        optimal_tree_set = optimal_tree_set_aisle\n",
        "\n",
        "print(f\"Maximum reward: {max_reward}\")\n",
        "print(f\"Optimal tree set: {optimal_tree_set}\")\n"
      ],
      "metadata": {
        "colab": {
          "base_uri": "https://localhost:8080/"
        },
        "id": "VScj1YE02kFF",
        "outputId": "59ab924f-0694-45e6-b615-fd9dd3388e14"
      },
      "execution_count": null,
      "outputs": [
        {
          "output_type": "stream",
          "name": "stdout",
          "text": [
            "Aisle 1, Tree 1: \n",
            "Top 1 rewards = [19] \n",
            "Set(1) = {7} \n",
            "Reward_Sum(1) = 19\n",
            "\n",
            "Aisle 1, Tree 2: \n",
            "Top 2 rewards = [19, 16] \n",
            "Set(2) = {3, 7} \n",
            "Reward_Sum(2) = 35\n",
            "\n",
            "Aisle 1, Tree 3: \n",
            "Top 3 rewards = [16, 13, 12] \n",
            "Set(3) = {1, 2, 3} \n",
            "Reward_Sum(3) = 41\n",
            "\n",
            "Maximum reward: 41\n",
            "Optimal tree set: {1, 2, 3}\n"
          ]
        }
      ]
    },
    {
      "cell_type": "markdown",
      "source": [
        "### Example with 2 Aisle Orchard"
      ],
      "metadata": {
        "id": "8FjYcgee2vsr"
      }
    },
    {
      "cell_type": "markdown",
      "source": [
        "#### Optimal Reward and Tree for Each Aisle"
      ],
      "metadata": {
        "id": "m1tGgj93-tjh"
      }
    },
    {
      "cell_type": "code",
      "source": [
        "import math\n",
        "\n",
        "orchard = [\n",
        "    [12, 13, 16, 12, 11, 8, 19],\n",
        "    [10, 15, 14, 17, 18, 9, 20]\n",
        "]\n",
        "\n",
        "budget = 27\n",
        "n = len(orchard[0])\n",
        "\n",
        "for aisle_index, aisle in enumerate(orchard):\n",
        "    max_reward_aisle = float('-inf')  # Initialize maximum reward for the current aisle\n",
        "    optimal_tree_set_aisle = set()  # Initialize optimal tree set for the current aisle\n",
        "\n",
        "    for k in range(1, n + 1):\n",
        "        j = min(math.floor((budget - 6 * k) / 2) + 1, n)\n",
        "        if k <= j:\n",
        "            top_k_rewards = sorted(set(aisle[:j]), reverse=True)[:k]\n",
        "            top_k_positions = set()\n",
        "            count = 0\n",
        "            for i, x in enumerate(aisle[:j]):\n",
        "                if x in top_k_rewards and count < k:\n",
        "                    top_k_positions.add(i + 1)\n",
        "                    count += 1\n",
        "\n",
        "            reward_sum = sum(top_k_rewards)\n",
        "\n",
        "            print(f\"Aisle {aisle_index + 1}, Tree {k}:\")\n",
        "            print(f\"Topk = {top_k_rewards}, Set({k}) = {top_k_positions}, Reward_Sum({k}) = {reward_sum}\\n\")\n",
        "\n",
        "            if reward_sum > max_reward_aisle:\n",
        "                max_reward_aisle = reward_sum\n",
        "                optimal_tree_set_aisle = top_k_positions\n",
        "\n",
        "    print(f\"Optimale Reward for Aisle {aisle_index + 1} is {max_reward_aisle} \\nOptimal Trees {optimal_tree_set_aisle}\\n\")\n"
      ],
      "metadata": {
        "colab": {
          "base_uri": "https://localhost:8080/"
        },
        "id": "gjhB3IqF7SoF",
        "outputId": "d32708c2-a1af-43f1-e950-528d3740fe47"
      },
      "execution_count": null,
      "outputs": [
        {
          "output_type": "stream",
          "name": "stdout",
          "text": [
            "Aisle 1, Tree 1:\n",
            "Topk = [19], Set(1) = {7}, Reward_Sum(1) = 19\n",
            "\n",
            "Aisle 1, Tree 2:\n",
            "Topk = [19, 16], Set(2) = {3, 7}, Reward_Sum(2) = 35\n",
            "\n",
            "Aisle 1, Tree 3:\n",
            "Topk = [16, 13, 12], Set(3) = {1, 2, 3}, Reward_Sum(3) = 41\n",
            "\n",
            "Optimale Reward for Aisle 1 is 41 \n",
            "Optimal Trees {1, 2, 3}\n",
            "\n",
            "Aisle 2, Tree 1:\n",
            "Topk = [20], Set(1) = {7}, Reward_Sum(1) = 20\n",
            "\n",
            "Aisle 2, Tree 2:\n",
            "Topk = [20, 18], Set(2) = {5, 7}, Reward_Sum(2) = 38\n",
            "\n",
            "Aisle 2, Tree 3:\n",
            "Topk = [18, 17, 15], Set(3) = {2, 4, 5}, Reward_Sum(3) = 50\n",
            "\n",
            "Optimale Reward for Aisle 2 is 50 \n",
            "Optimal Trees {2, 4, 5}\n",
            "\n"
          ]
        }
      ]
    },
    {
      "cell_type": "markdown",
      "source": [
        "#### Maximum Reward Overall"
      ],
      "metadata": {
        "id": "_PM9uMWh9tpT"
      }
    },
    {
      "cell_type": "code",
      "source": [
        "import math\n",
        "\n",
        "orchard = [\n",
        "    [12, 13, 16, 12, 11, 8, 19],\n",
        "    [10, 15, 14, 17, 18, 9, 20]\n",
        "]\n",
        "\n",
        "budget = 27\n",
        "n = len(orchard[0])\n",
        "\n",
        "max_reward = float('-inf')  # Initialize maximum reward for the entire orchard\n",
        "optimal_tree_set = set()  # Initialize optimal tree set for the entire orchard\n",
        "\n",
        "# Iterate through each aisle\n",
        "for aisle_index, aisle in enumerate(orchard):\n",
        "    max_reward_aisle = float('-inf')  # Initialize maximum reward for the current aisle\n",
        "    optimal_tree_set_aisle = set()  # Initialize optimal tree set for the current aisle\n",
        "\n",
        "    # Iterate through k = 1, 2, ..., n\n",
        "    for k in range(1, n + 1):\n",
        "        j = min(math.floor((budget - 6 * k) / 2) + 1, n)\n",
        "        if k <= j:\n",
        "            top_k_rewards = sorted(set(aisle[:j]), reverse=True)[:k]\n",
        "            top_k_positions = set()\n",
        "            count = 0\n",
        "            for i, x in enumerate(aisle[:j]):\n",
        "                if x in top_k_rewards and count < k:\n",
        "                    top_k_positions.add(i + 1)\n",
        "                    count += 1\n",
        "\n",
        "            reward_sum = sum(top_k_rewards)\n",
        "\n",
        "            # Update maximum reward and optimal tree set for the current aisle\n",
        "            if reward_sum > max_reward_aisle:\n",
        "                max_reward_aisle = reward_sum\n",
        "                optimal_tree_set_aisle = top_k_positions\n",
        "\n",
        "    # Update maximum reward and optimal tree set for the entire orchard\n",
        "    if max_reward_aisle > max_reward:\n",
        "        max_reward = max_reward_aisle\n",
        "        optimal_tree_set = optimal_tree_set_aisle\n",
        "\n",
        "    # Print the maximum reward and optimal tree set for the current aisle\n",
        "    print(f\"Optimal Reward for Aisle {aisle_index + 1} is {max_reward_aisle}\")\n",
        "    print(f\"Optimal Trees for Aisle {aisle_index + 1}: {optimal_tree_set_aisle}\\n\")\n",
        "\n",
        "# Print the maximum reward and optimal tree set for the entire orchard\n",
        "print(f\"Maximum reward for the entire orchard: {max_reward}\")\n",
        "print(f\"Optimal tree set for the entire orchard: {optimal_tree_set}\")\n"
      ],
      "metadata": {
        "colab": {
          "base_uri": "https://localhost:8080/"
        },
        "id": "qK_GmnjH9j-Y",
        "outputId": "875e9bb6-7bb1-424f-8530-5d89ea8f8896"
      },
      "execution_count": null,
      "outputs": [
        {
          "output_type": "stream",
          "name": "stdout",
          "text": [
            "Optimal Reward for Aisle 1 is 41\n",
            "Optimal Trees for Aisle 1: {1, 2, 3}\n",
            "\n",
            "Optimal Reward for Aisle 2 is 50\n",
            "Optimal Trees for Aisle 2: {2, 4, 5}\n",
            "\n",
            "Maximum reward for the entire orchard: 50\n",
            "Optimal tree set for the entire orchard: {2, 4, 5}\n"
          ]
        }
      ]
    },
    {
      "cell_type": "markdown",
      "source": [
        "#### Final Code"
      ],
      "metadata": {
        "id": "MC5dltG69zy7"
      }
    },
    {
      "cell_type": "code",
      "source": [
        "import math\n",
        "\n",
        "orchard = [\n",
        "    [12, 13, 16, 12, 11, 8, 19],\n",
        "    [10, 15, 14, 17, 18, 9, 20]\n",
        "]\n",
        "\n",
        "budget = 27\n",
        "n = len(orchard[0])\n",
        "\n",
        "max_reward = float('-inf')  # Initialize maximum reward for the entire orchard\n",
        "optimal_tree_set = set()  # Initialize optimal tree set for the entire orchard\n",
        "\n",
        "# Iterate through each aisle\n",
        "for aisle_index, aisle in enumerate(orchard):\n",
        "    max_reward_aisle = float('-inf')  # Initialize maximum reward for the current aisle\n",
        "    optimal_tree_set_aisle = set()  # Initialize optimal tree set for the current aisle\n",
        "\n",
        "    # Iterate through k = 1, 2, ..., n\n",
        "    for k in range(1, n + 1):\n",
        "        j = min(math.floor((budget - 6 * k) / 2) + 1, n)\n",
        "        if k <= j:\n",
        "            top_k_rewards = sorted(set(aisle[:j]), reverse=True)[:k]\n",
        "            top_k_positions = set()\n",
        "            count = 0\n",
        "            for i, x in enumerate(aisle[:j]):\n",
        "                if x in top_k_rewards and count < k:\n",
        "                    top_k_positions.add(i + 1)\n",
        "                    count += 1\n",
        "\n",
        "            reward_sum = sum(top_k_rewards)\n",
        "\n",
        "            # Print information for each tree in the aisle\n",
        "            print(f\"Aisle {aisle_index + 1}, Tree {k}:\")\n",
        "            print(f\"Topk = {top_k_rewards}, Set({k}) = {top_k_positions}, Reward_Sum({k}) = {reward_sum}\\n\")\n",
        "\n",
        "            # Update maximum reward and optimal tree set for the current aisle\n",
        "            if reward_sum > max_reward_aisle:\n",
        "                max_reward_aisle = reward_sum\n",
        "                optimal_tree_set_aisle = top_k_positions\n",
        "\n",
        "    # Update maximum reward and optimal tree set for the entire orchard\n",
        "    if max_reward_aisle > max_reward:\n",
        "        max_reward = max_reward_aisle\n",
        "        optimal_tree_set = optimal_tree_set_aisle\n",
        "\n",
        "    # Print the maximum reward and optimal tree set for the current aisle\n",
        "    print(f\"Optimal Reward for Aisle {aisle_index + 1} is {max_reward_aisle}\")\n",
        "    print(f\"Optimal Trees for Aisle {aisle_index + 1}: {optimal_tree_set_aisle}\\n\")\n",
        "\n",
        "# Print the maximum reward and optimal tree set for the entire orchard\n",
        "print(f\"Maximum reward for the entire orchard: {max_reward}\")\n",
        "print(f\"Optimal tree set for the entire orchard: {optimal_tree_set}\")\n"
      ],
      "metadata": {
        "id": "zuwRoCjN92sB",
        "outputId": "f3012733-4119-4b8c-d075-c68eaf1d136b",
        "colab": {
          "base_uri": "https://localhost:8080/"
        }
      },
      "execution_count": null,
      "outputs": [
        {
          "output_type": "stream",
          "name": "stdout",
          "text": [
            "Aisle 1, Tree 1:\n",
            "Topk = [19], Set(1) = {7}, Reward_Sum(1) = 19\n",
            "\n",
            "Aisle 1, Tree 2:\n",
            "Topk = [19, 16], Set(2) = {3, 7}, Reward_Sum(2) = 35\n",
            "\n",
            "Aisle 1, Tree 3:\n",
            "Topk = [16, 13, 12], Set(3) = {1, 2, 3}, Reward_Sum(3) = 41\n",
            "\n",
            "Optimal Reward for Aisle 1 is 41\n",
            "Optimal Trees for Aisle 1: {1, 2, 3}\n",
            "\n",
            "Aisle 2, Tree 1:\n",
            "Topk = [20], Set(1) = {7}, Reward_Sum(1) = 20\n",
            "\n",
            "Aisle 2, Tree 2:\n",
            "Topk = [20, 18], Set(2) = {5, 7}, Reward_Sum(2) = 38\n",
            "\n",
            "Aisle 2, Tree 3:\n",
            "Topk = [18, 17, 15], Set(3) = {2, 4, 5}, Reward_Sum(3) = 50\n",
            "\n",
            "Optimal Reward for Aisle 2 is 50\n",
            "Optimal Trees for Aisle 2: {2, 4, 5}\n",
            "\n",
            "Maximum reward for the entire orchard: 50\n",
            "Optimal tree set for the entire orchard: {2, 4, 5}\n"
          ]
        }
      ]
    }
  ]
}